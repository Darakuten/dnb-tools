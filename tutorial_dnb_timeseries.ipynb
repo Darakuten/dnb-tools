{
 "cells": [
  {
   "attachments": {},
   "cell_type": "markdown",
   "metadata": {
    "id": "MzZhWqMjvcdV"
   },
   "source": [
    "## Dynamical Network Biomarker (DNB) tools for time series data\n",
    "\n",
    "---\n",
    "\n",
    "This code extracts the early warning signal (EWS) reference indicators according to the DNB's idea.\n",
    "In accordance with the literature [1], this code calculates the indicators by the following steps:\n",
    "1. normalizing the data.\n",
    "2. dividing the data into sliding windows.\n",
    "3. calculating the covariance matrix and the maximum eigenvalue.\n",
    "\n",
    "This package is available on github and can be used with the following pip code.\n",
    "```code\n",
    "pip install https://@github.com/hiroshi-yamashita/dnb-tools\n",
    "```\n",
    "\n",
    "In addition to the DNB code, this code contains simulation data where the following branches occur:\n",
    "\n",
    "1. Toy model with saddle node bifurcation \n",
    "\n",
    "2. A harvested population model with herbivores and biomass [2]\n",
    "\n",
    "3. The spatial type of the above [3]\n",
    "\n",
    "## References\n",
    "\n",
    "[1]\tM. Oku and K. Aihara, “On the Covariance Matrix of the Stationary Distribution of a Noisy Dynamical System,” Nonlinear Theory and Its Applications, IEICE, 9(2), 166-184, doi:10.1587/nolta.9.166 (2018).\n",
    "\n",
    "[2] May, Robert M. \"Thresholds and breakpoints in ecosystems with a multiplicity of stable states.\" Nature 269.5628 (1977): 471-477.\n",
    "\n",
    "[3] van Nes, Egbert H., and Marten Scheffer. \"Implications of spatial heterogeneity for catastrophic regime shifts in ecosystems.\" Ecology 86.7 (2005): 1797-1807."
   ]
  },
  {
   "cell_type": "markdown",
   "metadata": {
    "id": "0Xume8OyScvs"
   },
   "source": [
    "## Requirements\n",
    "This packeage need the following:\n",
    "```code\n",
    "python >=3.7 \n",
    "numpy\n",
    "pandas\n",
    "matplotlib\n",
    "sklearn\n",
    "ruptures\n",
    "tqdm\n",
    "```"
   ]
  },
  {
   "cell_type": "code",
   "execution_count": null,
   "metadata": {},
   "outputs": [],
   "source": [
    "# first run this code box to connect to runtime"
   ]
  },
  {
   "cell_type": "markdown",
   "metadata": {
    "id": "naMBOgUFbaQI"
   },
   "source": [
    "## Usage\n",
    "\n",
    "\n",
    "1. Install package\n"
   ]
  },
  {
   "cell_type": "code",
   "execution_count": null,
   "metadata": {
    "colab": {
     "base_uri": "https://localhost:8080/"
    },
    "id": "v5M9tlTkvDuM",
    "outputId": "e5479b37-d544-4071-a151-04dc2a0e0437",
    "scrolled": true
   },
   "outputs": [],
   "source": [
    "!pip install git+https://github.com/hiroshi-yamashita/dnb-tools.git"
   ]
  },
  {
   "attachments": {},
   "cell_type": "markdown",
   "metadata": {
    "id": "cxVkcSqEcQck"
   },
   "source": [
    "2a. Prepare your data following the format instructions below.\n",
    "- When using COLABORATORY, upload a csv file. Click on the folder icon on the far left and upload the file from \"Upload to Session Storage\". \n",
    "- You can get example data by following command:"
   ]
  },
  {
   "cell_type": "code",
   "execution_count": null,
   "metadata": {},
   "outputs": [],
   "source": [
    "!dnb_example_timeseries --saddle_node\n",
    "# See \"dnb_example_timeseries --help\" for more information.\n",
    "# !dnb_example_timeseries --help"
   ]
  },
  {
   "attachments": {},
   "cell_type": "markdown",
   "metadata": {},
   "source": [
    "### Input format\n",
    "\n",
    "The csv file style is the following:\n",
    "\n",
    "|Time or Step| feature_name_1 | feature_name_2 | ... | feature_name_n |\n",
    "|----|----|----|----|----|\n",
    "|0|$x_1(0)$ |$x_2(0)$ | ... |$x_n(0)$ |\n",
    "|1|$x_1(1)$ |$x_2(1)$ | ... |$x_n(1)$ |\n",
    "|...| ... | ... | ... | ... | ... |\n",
    "|T|$x_1(T)$ |$x_2(T)$ | ... |$x_n(T)$ |"
   ]
  },
  {
   "attachments": {},
   "cell_type": "markdown",
   "metadata": {},
   "source": [
    "2b. change the following 'filename' variable to the target file name.\n",
    "(The initial case: the target file name is 'sample.csv')"
   ]
  },
  {
   "cell_type": "code",
   "execution_count": null,
   "metadata": {
    "id": "BkIL52x6VSw6"
   },
   "outputs": [],
   "source": [
    "input_folder = \"input\"\n",
    "filename = 'sample.csv' "
   ]
  },
  {
   "attachments": {},
   "cell_type": "markdown",
   "metadata": {},
   "source": [
    "3. Run the analysis script following the instructions below. You can follow either the simple instruction in `Simple to implement` or the detailed instruction in `Step-by-step analysis` section.\n",
    "\n",
    "4. The output `DNB_*.csv` for subsequent analysis by `dnb_tabular`.\n"
   ]
  },
  {
   "attachments": {},
   "cell_type": "markdown",
   "metadata": {},
   "source": [
    "---\n",
    "\n",
    "## Simple to implement"
   ]
  },
  {
   "cell_type": "code",
   "execution_count": null,
   "metadata": {
    "scrolled": false
   },
   "outputs": [],
   "source": [
    "!dnb_timeseries --input_path {input_folder} {filename}\n",
    "# See \"dnb_timeseries --help\" for more information."
   ]
  },
  {
   "attachments": {},
   "cell_type": "markdown",
   "metadata": {},
   "source": [
    "You can use the output `DNB_*.csv` for further analysis by `dnb_tabular`.\n",
    "\n",
    "- When using COLABORATORY, click on the folder icon on the far left and download the output file. "
   ]
  },
  {
   "attachments": {},
   "cell_type": "markdown",
   "metadata": {},
   "source": [
    "---"
   ]
  },
  {
   "attachments": {},
   "cell_type": "markdown",
   "metadata": {},
   "source": [
    "## Step-by-Step Analysis\n",
    "\n",
    "When the respective function of dnb_ts is performed, follow the instructions below:"
   ]
  },
  {
   "attachments": {},
   "cell_type": "markdown",
   "metadata": {
    "id": "eoxS3LOCe2_c"
   },
   "source": [
    "1. import package"
   ]
  },
  {
   "cell_type": "code",
   "execution_count": null,
   "metadata": {
    "id": "_scycRwbPEft"
   },
   "outputs": [],
   "source": [
    "from dnb_tool.timeseries.dnb_ts import EWS_DNB\n",
    "from dnb_tool.timeseries.dnb_ts import CPD_EWS\n",
    "\n",
    "\n",
    "import pandas as pd\n",
    "import matplotlib.pyplot as plt\n",
    "import numpy as np"
   ]
  },
  {
   "attachments": {},
   "cell_type": "markdown",
   "metadata": {
    "id": "3qUk-MxdfD2H"
   },
   "source": [
    "2. Read data from the csv file"
   ]
  },
  {
   "cell_type": "code",
   "execution_count": null,
   "metadata": {
    "id": "JA_JNblMfCFL"
   },
   "outputs": [],
   "source": [
    "\n",
    "df = pd.read_csv(f\"{input_folder}/{filename}\", index_col = 0)\n",
    "x = df.values[:,1:]\n",
    "df.head() # look the csv head data \n"
   ]
  },
  {
   "attachments": {},
   "cell_type": "markdown",
   "metadata": {
    "id": "vcLlpTPlfdxP"
   },
   "source": [
    "- If you use the sample data, run the following code:"
   ]
  },
  {
   "cell_type": "code",
   "execution_count": null,
   "metadata": {
    "colab": {
     "base_uri": "https://localhost:8080/",
     "height": 422
    },
    "id": "Jt2TShDLYwpT",
    "outputId": "c02f02b9-a033-47c5-b1e5-3733a8a99c52"
   },
   "outputs": [],
   "source": [
    "# toy model with saddle-node bifurcation\n",
    "from dnb_tool.datasets import saddle_node_model \n",
    "times, x,y =  saddle_node_model.get_data()\n",
    "\n",
    "# May model [2]\n",
    "from dnb_tool.datasets import May_model\n",
    "times, x,y =  May_model.get_data()\n",
    "\n",
    "# A spatial harvested population model[3]\n",
    "from dnb_tool.datasets import HP_model\n",
    "HP_model.overview()\n",
    "times, x,y =  HP_model.get_data(n = 5,sigma = 0.1)\n",
    "\n",
    "df = pd.DataFrame(np.c_[times,x])\n",
    "df.to_csv('sample.csv',index= False)"
   ]
  },
  {
   "attachments": {},
   "cell_type": "markdown",
   "metadata": {
    "id": "B-skga_IhnR2"
   },
   "source": [
    "3. Calculating the EWS and the candidate of the bifurcation point"
   ]
  },
  {
   "cell_type": "code",
   "execution_count": null,
   "metadata": {
    "colab": {
     "base_uri": "https://localhost:8080/"
    },
    "id": "VjPMwo-1vLaz",
    "outputId": "3a080f9a-3780-4a8f-fd27-96faafbc1211"
   },
   "outputs": [],
   "source": [
    "# window size of sliding windows\n",
    "window_size = 1000\n",
    "\n",
    "# padding type; \n",
    "#'valid': no padding, \n",
    "#'same': completing the numbers so that the output is centered, \n",
    "#'online': completing numbers so that outputs can be calculated online.\n",
    "padding =  'online' \n",
    "\n",
    "# normalization type;\n",
    "#'straight': not normalized, \n",
    "#'std': std of the data become 1, \n",
    "#'minmax': the maximum error of data become 1.\n",
    "#'PCA': Dimensions are compressed by PCA (Output is 10 dimensions).  Use when there are many dimensions.\n",
    "normalization = 'straight'\n",
    "\n",
    "ews =  EWS_DNB(x,window_size = window_size,padding = padding, normalization = normalization )"
   ]
  },
  {
   "cell_type": "code",
   "execution_count": null,
   "metadata": {
    "colab": {
     "base_uri": "https://localhost:8080/"
    },
    "id": "-jzENpERXcAe",
    "outputId": "69723418-a84b-4566-f984-de9619f14a1e"
   },
   "outputs": [],
   "source": [
    "# \n",
    "# Config of change point detection methods; \n",
    "#'type': \n",
    "#   'peak' : bifucation point assume peak\n",
    "#   'linear' : Linear prediction\n",
    "#   'ar' : AR model\n",
    "#   'Ohtsu' :  01 detection using Ohtsu method\n",
    "#'dim': order of the target model\n",
    "cfg = {'type':'ar','dim':2}\n",
    "\n",
    "# Range to probe the change point from the maximum;\n",
    "scope_range = 1000\n",
    "\n",
    "cp = CPD_EWS(ews,cfg = cfg,scope_range = scope_range)\n",
    "\n",
    "# controll point\n",
    "control = cp//2"
   ]
  },
  {
   "attachments": {},
   "cell_type": "markdown",
   "metadata": {
    "id": "rZjV0MnHlM1o"
   },
   "source": [
    "4. Visualizing and save"
   ]
  },
  {
   "cell_type": "code",
   "execution_count": null,
   "metadata": {
    "colab": {
     "base_uri": "https://localhost:8080/",
     "height": 407
    },
    "id": "CvBgvUNKOJen",
    "outputId": "ea5a71c8-8e0e-429e-b1bb-7180317c0d2d"
   },
   "outputs": [],
   "source": [
    "# Visualization\n",
    "fig = plt.figure(figsize =  (8,5))\n",
    "plt.subplot(2,1,1)\n",
    "plt.grid()\n",
    "plt.plot(x)\n",
    "plt.ylabel('Feature',fontsize = 16)\n",
    "plt.subplot(2,1,2)\n",
    "plt.grid()\n",
    "plt.plot(ews)\n",
    "plt.scatter(cp,ews[cp],color = 'red',label = 'candidate of bifurcation')\n",
    "plt.scatter(control,ews[control],color = 'blue',label = 'candidate of control')\n",
    "plt.legend(fontsize = 16)\n",
    "plt.ylabel('$\\lambda_{max}$(Covariance matrix)',fontsize = 16)\n",
    "plt.xlabel('Step',fontsize = 16)\n",
    "fig.tight_layout() \n",
    "fig.align_labels()\n",
    "plt.savefig('EWS_DNB.pdf',bbox_inches='tight')\n",
    "# Save data \n",
    "df_ews = pd.DataFrame(ews,columns =[\"EWS_DNB\"])\n",
    "df_ews.to_csv('EWS_'+ filename)"
   ]
  },
  {
   "cell_type": "code",
   "execution_count": null,
   "metadata": {
    "colab": {
     "base_uri": "https://localhost:8080/"
    },
    "id": "4ZHnLe7AYFpc",
    "outputId": "20dd90a7-2c04-4004-e2bf-445863ab094a"
   },
   "outputs": [],
   "source": [
    "# make DNB tools file\n",
    "x_cp = x[cp-window_size:cp]\n",
    "x_control = x[control-window_size:control]\n",
    "\n",
    "columns = [f'ctrl_{i:06}' for i in range(x_control.shape[0])] + [f'expr_{i:06}' for i in range(x_cp.shape[0])]\n",
    "index = df.columns[1:]\n",
    "df_out =  pd.DataFrame(np.r_[x_control,x_cp].T,index = index, columns= columns)\n",
    "df_out.to_csv('DNB_' + filename)\n",
    "print(df_out)"
   ]
  },
  {
   "attachments": {},
   "cell_type": "markdown",
   "metadata": {},
   "source": [
    "You can use the output `DNB_*.csv` for further analysis by `dnb_tabular`.\n",
    "\n",
    "- When using COLABORATORY, click on the folder icon on the far left and download the output file. "
   ]
  },
  {
   "attachments": {},
   "cell_type": "markdown",
   "metadata": {
    "id": "sZAqts4hndOx"
   },
   "source": [
    "---\n",
    "\n",
    "## Author of this code\n",
    "Yuji Okamoto : yuji.0001@gmail.com\n",
    "\n",
    "Github: https://github.com/yuji0001/time_series_DNB"
   ]
  }
 ],
 "metadata": {
  "colab": {
   "collapsed_sections": [
    "MzZhWqMjvcdV",
    "sZAqts4hndOx"
   ],
   "provenance": []
  },
  "kernelspec": {
   "display_name": "Python 3 (ipykernel)",
   "language": "python",
   "name": "python3"
  },
  "language_info": {
   "codemirror_mode": {
    "name": "ipython",
    "version": 3
   },
   "file_extension": ".py",
   "mimetype": "text/x-python",
   "name": "python",
   "nbconvert_exporter": "python",
   "pygments_lexer": "ipython3",
   "version": "3.9.2"
  },
  "varInspector": {
   "cols": {
    "lenName": 16,
    "lenType": 16,
    "lenVar": 40
   },
   "kernels_config": {
    "python": {
     "delete_cmd_postfix": "",
     "delete_cmd_prefix": "del ",
     "library": "var_list.py",
     "varRefreshCmd": "print(var_dic_list())"
    },
    "r": {
     "delete_cmd_postfix": ") ",
     "delete_cmd_prefix": "rm(",
     "library": "var_list.r",
     "varRefreshCmd": "cat(var_dic_list()) "
    }
   },
   "types_to_exclude": [
    "module",
    "function",
    "builtin_function_or_method",
    "instance",
    "_Feature"
   ],
   "window_display": false
  }
 },
 "nbformat": 4,
 "nbformat_minor": 1
}
